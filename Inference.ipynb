{
 "cells": [
  {
   "cell_type": "code",
   "execution_count": 1,
   "metadata": {},
   "outputs": [
    {
     "name": "stderr",
     "output_type": "stream",
     "text": [
      "Using TensorFlow backend.\n"
     ]
    }
   ],
   "source": [
    "import numpy as np\n",
    "import pandas as pd\n",
    "import pydicom\n",
    "%matplotlib inline\n",
    "import matplotlib.pyplot as plt\n",
    "import keras \n",
    "import glob\n",
    "from skimage.transform import resize\n",
    "from keras.preprocessing.image import ImageDataGenerator\n",
    "from keras.models import model_from_json"
   ]
  },
  {
   "cell_type": "code",
   "execution_count": 2,
   "metadata": {},
   "outputs": [],
   "source": [
    "test_dicoms = glob.glob('*.dcm')\n"
   ]
  },
  {
   "cell_type": "code",
   "execution_count": 3,
   "metadata": {},
   "outputs": [],
   "source": [
    "a = pydicom.dcmread(test_dicoms[0])\n"
   ]
  },
  {
   "cell_type": "code",
   "execution_count": 4,
   "metadata": {},
   "outputs": [
    {
     "name": "stdout",
     "output_type": "stream",
     "text": [
      "No Finding CT PA\n",
      "No Finding DX PA\n",
      "No Finding DX XX\n",
      "Cardiomegaly DX AP\n",
      "Effusion DX AP\n",
      "No Finding DX PA\n"
     ]
    }
   ],
   "source": [
    "for i in test_dicoms:\n",
    "    ds = pydicom.dcmread(i)\n",
    "    print(ds.StudyDescription, ds.Modality, ds.PatientPosition)"
   ]
  },
  {
   "cell_type": "code",
   "execution_count": 5,
   "metadata": {},
   "outputs": [],
   "source": [
    "# This function reads in a .dcm file, checks the important fields for our device, and returns a numpy array\n",
    "# of just the imaging data\n",
    "def check_dicom(filename): \n",
    "    # todo\n",
    "    \n",
    "    print('Load file {} ...'.format(filename))\n",
    "    ds = pydicom.dcmread(filename)       \n",
    "    img = ds.pixel_array\n",
    "    return img\n",
    "    \n",
    "    \n",
    "# This function takes the numpy array output by check_dicom and \n",
    "# runs the appropriate pre-processing needed for our model input\n",
    "def preprocess_image(img,img_mean,img_std,img_size): \n",
    "    # todo\n",
    "    idg = ImageDataGenerator()\n",
    "    img = resize(img, IMG_SIZE)\n",
    "    proc_img = idg.flow(\n",
    "            img,\n",
    "            y=None,\n",
    "            batch_size=32,\n",
    "            shuffle=True,\n",
    "            sample_weight=None,\n",
    "            seed=None,\n",
    "            save_to_dir=None,\n",
    "            save_prefix=\"\",\n",
    "            save_format=\"png\",\n",
    "            subset=None,)\n",
    "    \n",
    "    return proc_img\n",
    "\n",
    "# This function loads in our trained model w/ weights and compiles it \n",
    "def load_model(model_path, weight_path):\n",
    "    # todo\n",
    "    file = open(model_path, 'r')\n",
    "    my_model = file.read()\n",
    "    file.close()\n",
    "    \n",
    "    model = model_from_json(my_model)\n",
    "    #model = weight_path\n",
    "    model.load_weights(weight_path)\n",
    "\n",
    "    \n",
    "    return model\n",
    "\n",
    "# This function uses our device's threshold parameters to predict whether or not\n",
    "# the image shows the presence of pneumonia using our trained model\n",
    "def predict_image(model, img, thresh): \n",
    "    # todo \n",
    "    predn_prob = model.predict(img, verbose = True)\n",
    "    prediction = ['There is pneumonia' if i[0] > thresh else 'No pneumonia in this image' for i in predn_prob]\n",
    "    \n",
    "    return predn_prob, prediction "
   ]
  },
  {
   "cell_type": "code",
   "execution_count": 6,
   "metadata": {},
   "outputs": [
    {
     "name": "stdout",
     "output_type": "stream",
     "text": [
      "Load file test1.dcm ...\n",
      "1/1 [==============================] - 2s 2s/step\n",
      "(array([[0.45933303]], dtype=float32), ['No pneumonia in this image'])\n",
      "Load file test2.dcm ...\n",
      "1/1 [==============================] - 0s 37ms/step\n",
      "(array([[0.45155138]], dtype=float32), ['No pneumonia in this image'])\n",
      "Load file test3.dcm ...\n",
      "1/1 [==============================] - 0s 36ms/step\n",
      "(array([[0.45902377]], dtype=float32), ['No pneumonia in this image'])\n",
      "Load file test4.dcm ...\n",
      "1/1 [==============================] - 0s 36ms/step\n",
      "(array([[0.45933303]], dtype=float32), ['No pneumonia in this image'])\n",
      "Load file test5.dcm ...\n",
      "1/1 [==============================] - 0s 36ms/step\n",
      "(array([[0.45933303]], dtype=float32), ['No pneumonia in this image'])\n",
      "Load file test6.dcm ...\n",
      "1/1 [==============================] - 0s 35ms/step\n",
      "(array([[0.45933303]], dtype=float32), ['No pneumonia in this image'])\n"
     ]
    }
   ],
   "source": [
    "test_dicoms = ['test1.dcm','test2.dcm','test3.dcm','test4.dcm','test5.dcm','test6.dcm']\n",
    "\n",
    "model_path = 'my_model.json' #path to saved model\n",
    "weight_path = 'xray_class_my_model.best.hdf5'\n",
    "\n",
    "IMG_SIZE=(1,224,224,3) # This might be different if you did not use vgg16\n",
    "img_mean = 2646.035253 # loads the mean image value they used during training preprocessing\n",
    "img_std = 341.2437# loads the std dev image value they used during training preprocessing\n",
    " \n",
    "my_model = load_model(model_path, weight_path)#loads model\n",
    "thresh = 0.6 #loads the threshold they chose for model classification \n",
    "\n",
    "# use the .dcm files to test your prediction\n",
    "for i in test_dicoms:\n",
    "    \n",
    "    img = np.array([])\n",
    "    img = check_dicom(i)\n",
    "    \n",
    "    if img is None:\n",
    "        continue\n",
    "        \n",
    "    img_proc = preprocess_image(img,img_mean,img_std,IMG_SIZE)\n",
    "    pred = predict_image(my_model,img_proc,thresh)\n",
    "    print(pred)"
   ]
  },
  {
   "cell_type": "code",
   "execution_count": null,
   "metadata": {},
   "outputs": [],
   "source": [
    "## Seems like the model is doing very bad :("
   ]
  }
 ],
 "metadata": {
  "kernelspec": {
   "display_name": "Python 3",
   "language": "python",
   "name": "python3"
  },
  "language_info": {
   "codemirror_mode": {
    "name": "ipython",
    "version": 3
   },
   "file_extension": ".py",
   "mimetype": "text/x-python",
   "name": "python",
   "nbconvert_exporter": "python",
   "pygments_lexer": "ipython3",
   "version": "3.7.6"
  }
 },
 "nbformat": 4,
 "nbformat_minor": 2
}
